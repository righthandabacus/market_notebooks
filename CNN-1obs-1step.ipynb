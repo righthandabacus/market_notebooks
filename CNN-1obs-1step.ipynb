{
 "cells": [
  {
   "cell_type": "markdown",
   "id": "adb8ecf6-dc9a-4d5d-9367-c09447e42bed",
   "metadata": {},
   "source": [
    "# CNN single observation one-step forecast"
   ]
  },
  {
   "cell_type": "markdown",
   "id": "0a08b766-6fad-4832-94bd-98c80b0d8219",
   "metadata": {},
   "source": [
    "Demo dataset and idea is from the paper CNNpred by Hoseinzade and Haratizadeh (2019)"
   ]
  },
  {
   "cell_type": "code",
   "execution_count": 1,
   "id": "8ef17def-7596-443e-8764-b17e6d7f0364",
   "metadata": {},
   "outputs": [],
   "source": [
    "import os\n",
    "import random\n",
    "import glob\n",
    "import sys"
   ]
  },
  {
   "cell_type": "markdown",
   "id": "a87c356c-13a0-45f5-8161-647ceca6c7ea",
   "metadata": {},
   "source": [
    "## Building blocks"
   ]
  },
  {
   "cell_type": "code",
   "execution_count": 2,
   "id": "a9f633af-4663-4928-a170-92a1e947fb5c",
   "metadata": {},
   "outputs": [],
   "source": [
    "import numpy as np\n",
    "import pandas as pd\n",
    "import tensorflow as tf\n",
    "from tensorflow.keras import backend as K\n",
    "from tensorflow.keras.layers import Dense, Dropout, Flatten, Conv2D, MaxPool2D, Input\n",
    "from tensorflow.keras.models import Sequential, load_model\n",
    "from tensorflow.keras.callbacks import ModelCheckpoint, EarlyStopping\n",
    "from sklearn.preprocessing import StandardScaler\n",
    "from sklearn.metrics import accuracy_score, f1_score, mean_absolute_error\n",
    "\n",
    "# https://datascience.stackexchange.com/questions/45165/how-to-get-accuracy-f1-precision-and-recall-for-a-keras-model\n",
    "# to implement F1 score for validation in a batch\n",
    "def recall_m(y_true, y_pred):\n",
    "    true_positives = K.sum(K.round(K.clip(y_true * y_pred, 0, 1)))\n",
    "    possible_positives = K.sum(K.round(K.clip(y_true, 0, 1)))\n",
    "    recall = true_positives / (possible_positives + K.epsilon())\n",
    "    return recall\n",
    "\n",
    "def precision_m(y_true, y_pred):\n",
    "    true_positives = K.sum(K.round(K.clip(y_true * y_pred, 0, 1)))\n",
    "    predicted_positives = K.sum(K.round(K.clip(y_pred, 0, 1)))\n",
    "    precision = true_positives / (predicted_positives + K.epsilon())\n",
    "    return precision\n",
    "\n",
    "def f1_m(y_true, y_pred):\n",
    "    precision = precision_m(y_true, y_pred)\n",
    "    recall = recall_m(y_true, y_pred)\n",
    "    return 2*((precision*recall)/(precision+recall+K.epsilon()))\n",
    "\n",
    "def f1macro(y_true, y_pred):\n",
    "    f_pos = f1_m(y_true, y_pred)\n",
    "    # negative version of the data an dprediction\n",
    "    f_neg = f1_m(1-y_true, 1-K.clip(y_pred,0,1))\n",
    "    return (f_pos + f_neg)/2\n",
    "\n",
    "def cnnpred_3d(seq_len=60, n_stocks=5, n_features=82, n_filters=(8,8,8), droprate=0.1):\n",
    "    \"3D-CNNpred market direction binary classification model according to the paper\"\n",
    "    model = Sequential([\n",
    "        Input(shape=(n_stocks, seq_len, n_features)),\n",
    "        Conv2D(n_filters[0], kernel_size=(1,1), activation=\"relu\", data_format=\"channels_last\"),\n",
    "        Conv2D(n_filters[1], kernel_size=(n_stocks,3), activation=\"relu\"),\n",
    "        MaxPool2D(pool_size=(1,2)),\n",
    "        Conv2D(n_filters[2], kernel_size=(1,3), activation=\"relu\"),\n",
    "        MaxPool2D(pool_size=(1,2)),\n",
    "        Flatten(),\n",
    "        Dropout(droprate),\n",
    "        Dense(1, activation=\"sigmoid\")\n",
    "    ])\n",
    "    return model\n",
    "\n",
    "def datagen(data, seq_len, batch_size, target_index, targetcol, kind):\n",
    "    \"As a generator to produce samples for Keras model\"\n",
    "    # Learn about the data's features and time axis\n",
    "    input_cols = [c for c in data.columns if c[0] != targetcol]\n",
    "    tickers = sorted(set(c for _,c in input_cols))\n",
    "    n_features = len(input_cols) // len(tickers)\n",
    "    index = data.index[data.index < TRAIN_TEST_CUTOFF]\n",
    "    split = int(len(index) * TRAIN_VALID_RATIO)\n",
    "    assert split > seq_len, \"Training data too small for sequence length {}\".format(seq_len)\n",
    "    if kind == \"train\":\n",
    "        index = index[:split]   # range for the training set\n",
    "    elif kind == 'valid':\n",
    "        index = index[split:]   # range for the validation set\n",
    "    else:\n",
    "        raise NotImplementedError\n",
    "    # Infinite loop to generate a batch\n",
    "    batch = []\n",
    "    while True:\n",
    "        # Pick one position, then clip a sequence length\n",
    "        while True:\n",
    "            t = random.choice(index)\n",
    "            n = (data.index == t).argmax()\n",
    "            if n-seq_len+1 < 0:\n",
    "                continue # this sample is not enough for one sequence length\n",
    "            frame = data.iloc[n-seq_len+1:n+1][input_cols]\n",
    "            # convert frame with two level of indices into 3D array\n",
    "            shape = (len(tickers), len(frame), n_features)\n",
    "            X = np.full(shape, np.nan)\n",
    "            for i,ticker in enumerate(tickers):\n",
    "                X[i] = frame.xs(ticker, axis=1, level=1).values\n",
    "            batch.append([X, data[targetcol][target_index][t]])\n",
    "            break\n",
    "        # if we get enough for a batch, dispatch\n",
    "        if len(batch) == batch_size:\n",
    "            X, y = zip(*batch)\n",
    "            yield np.array(X), np.array(y)\n",
    "            batch = []\n",
    "\n",
    "def testgen(data, seq_len, target_index, targetcol):\n",
    "    \"Return array of all test samples\"\n",
    "    input_cols = [c for c in data.columns if c[0] != targetcol]\n",
    "    tickers = sorted(set(c for _,c in input_cols))\n",
    "    n_features = len(input_cols) // len(tickers)\n",
    "    t = data.index[data.index >= TRAIN_TEST_CUTOFF][0]\n",
    "    n = (data.index == t).argmax()\n",
    "    batch = []\n",
    "    for i in range(n+1, len(data)+1):\n",
    "        # Clip a window of seq_len ends at row position i-1\n",
    "        frame = data.iloc[i-seq_len:i]\n",
    "        target = frame[targetcol][target_index][-1]\n",
    "        frame = frame[input_cols]\n",
    "        # convert frame with two level of indices into 3D array\n",
    "        shape = (len(tickers), len(frame), n_features)\n",
    "        X = np.full(shape, np.nan)\n",
    "        for i,ticker in enumerate(tickers):\n",
    "            X[i] = frame.xs(ticker, axis=1, level=1).values\n",
    "        batch.append([X, target])\n",
    "    X, y = zip(*batch)\n",
    "    return np.array(X), np.array(y)"
   ]
  },
  {
   "cell_type": "markdown",
   "id": "34b27dbe-8c98-470f-a5f5-e06e41419b38",
   "metadata": {},
   "source": [
    "## Model fitting"
   ]
  },
  {
   "cell_type": "code",
   "execution_count": 3,
   "id": "6065e1e7-df82-4098-832c-03c0de72671b",
   "metadata": {},
   "outputs": [
    {
     "name": "stdout",
     "output_type": "stream",
     "text": [
      "Model: \"sequential\"\n",
      "____________________________________________________________________________________________________\n",
      " Layer (type)                                Output Shape                            Param #        \n",
      "====================================================================================================\n",
      " conv2d (Conv2D)                             (None, 5, 60, 8)                        664            \n",
      "                                                                                                    \n",
      " conv2d_1 (Conv2D)                           (None, 1, 58, 8)                        968            \n",
      "                                                                                                    \n",
      " max_pooling2d (MaxPooling2D)                (None, 1, 29, 8)                        0              \n",
      "                                                                                                    \n",
      " conv2d_2 (Conv2D)                           (None, 1, 27, 8)                        200            \n",
      "                                                                                                    \n",
      " max_pooling2d_1 (MaxPooling2D)              (None, 1, 13, 8)                        0              \n",
      "                                                                                                    \n",
      " flatten (Flatten)                           (None, 104)                             0              \n",
      "                                                                                                    \n",
      " dropout (Dropout)                           (None, 104)                             0              \n",
      "                                                                                                    \n",
      " dense (Dense)                               (None, 1)                               105            \n",
      "                                                                                                    \n",
      "====================================================================================================\n",
      "Total params: 1,937\n",
      "Trainable params: 1,937\n",
      "Non-trainable params: 0\n",
      "____________________________________________________________________________________________________\n"
     ]
    },
    {
     "name": "stderr",
     "output_type": "stream",
     "text": [
      "2021-12-13 23:10:29.955352: E tensorflow/stream_executor/cuda/cuda_driver.cc:271] failed call to cuInit: CUDA_ERROR_UNKNOWN: unknown error\n",
      "2021-12-13 23:10:29.955374: I tensorflow/stream_executor/cuda/cuda_diagnostics.cc:169] retrieving CUDA diagnostic information for host: acer\n",
      "2021-12-13 23:10:29.955379: I tensorflow/stream_executor/cuda/cuda_diagnostics.cc:176] hostname: acer\n",
      "2021-12-13 23:10:29.955437: I tensorflow/stream_executor/cuda/cuda_diagnostics.cc:200] libcuda reported version is: 495.29.5\n",
      "2021-12-13 23:10:29.955453: I tensorflow/stream_executor/cuda/cuda_diagnostics.cc:204] kernel reported version is: 495.29.5\n",
      "2021-12-13 23:10:29.955457: I tensorflow/stream_executor/cuda/cuda_diagnostics.cc:310] kernel version seems to match DSO: 495.29.5\n",
      "2021-12-13 23:10:29.955597: I tensorflow/core/platform/cpu_feature_guard.cc:151] This TensorFlow binary is optimized with oneAPI Deep Neural Network Library (oneDNN) to use the following CPU instructions in performance-critical operations:  AVX2 FMA\n",
      "To enable them in other operations, rebuild TensorFlow with the appropriate compiler flags.\n"
     ]
    }
   ],
   "source": [
    "DATAFILES = \"dataset/Processed_*.csv\"\n",
    "TRAIN_TEST_CUTOFF = '2016-04-21'\n",
    "TRAIN_VALID_RATIO = 0.75\n",
    "\n",
    "# Read data into pandas DataFrames\n",
    "data = {} \n",
    "for filepath in glob.glob(DATAFILES):\n",
    "    X = pd.read_csv(filepath, index_col=\"Date\", parse_dates=True)\n",
    "    # basic preprocessing: get the name, produce the classification target\n",
    "    # Save the target variable as a column in dataframe for easier dropna()\n",
    "    name = X[\"Name\"][0]\n",
    "    del X[\"Name\"]\n",
    "    cols = X.columns\n",
    "    X[\"Target\"] = (X[\"Close\"].pct_change().shift(-1) > 0).astype(int)\n",
    "    X.dropna(inplace=True)\n",
    "    # Fit the standard scaler using the training dataset\n",
    "    index = X.index[X.index < TRAIN_TEST_CUTOFF]\n",
    "    index = index[:int(len(index) * TRAIN_VALID_RATIO)]\n",
    "    scaler = StandardScaler().fit(X.loc[index, cols])\n",
    "    # Save scale transformed dataframe\n",
    "    X[cols] = scaler.transform(X[cols])\n",
    "    data[name] = X\n",
    "\n",
    "# Transform data into 3D dataframe (multilevel columns)\n",
    "for key, df in data.items():\n",
    "    df.columns = pd.MultiIndex.from_product([df.columns, [key]])\n",
    "data = pd.concat(data.values(), axis=1)\n",
    "\n",
    "# Input data sample: 60-day x 5 stocks x 82 features\n",
    "# Training in SGD with batch size 128 and 50 epochs\n",
    "seq_len    = 60\n",
    "n_features = 82\n",
    "n_stocks   = 5\n",
    "batch_size = 128\n",
    "n_epochs   = 50\n",
    "\n",
    "# Construct CNNpred as a binary classification problem\n",
    "model = cnnpred_3d(seq_len, n_stocks, n_features)\n",
    "model.compile(optimizer=\"adam\", loss=\"mae\", metrics=[\"acc\", f1macro])\n",
    "model.summary(line_length=100) # print model structure to console"
   ]
  },
  {
   "cell_type": "code",
   "execution_count": 4,
   "id": "10f58c43-c811-4198-a77c-3866e8843ed2",
   "metadata": {},
   "outputs": [
    {
     "data": {
      "image/png": "[encoded data removed]",
      "text/plain": [
       "<IPython.core.display.Image object>"
      ]
     },
     "execution_count": 4,
     "metadata": {},
     "output_type": "execute_result"
    }
   ],
   "source": [
    "from tensorflow.keras.utils import plot_model\n",
    "plot_model(model, show_shapes=True, show_layer_names=True, dpi=64)"
   ]
  },
  {
   "cell_type": "code",
   "execution_count": 5,
   "id": "1a24763b-1136-4261-8ab5-3488a1c746c7",
   "metadata": {},
   "outputs": [
    {
     "name": "stdout",
     "output_type": "stream",
     "text": [
      "Epoch 1/50\n",
      "400/400 [==============================] - 225s 562ms/step - loss: 0.3387 - acc: 0.6889 - f1macro: 0.6279 - val_loss: 0.4510 - val_acc: 0.5609 - val_f1macro: 0.5328\n",
      "Epoch 2/50\n",
      "400/400 [==============================] - 229s 573ms/step - loss: 0.1655 - acc: 0.8608 - f1macro: 0.8563 - val_loss: 0.4694 - val_acc: 0.5094 - val_f1macro: 0.4793\n",
      "Epoch 3/50\n",
      "400/400 [==============================] - 227s 570ms/step - loss: 0.1213 - acc: 0.8943 - f1macro: 0.8910 - val_loss: 0.4800 - val_acc: 0.5156 - val_f1macro: 0.4793\n",
      "Epoch 4/50\n",
      "400/400 [==============================] - 219s 550ms/step - loss: 0.0982 - acc: 0.9127 - f1macro: 0.9100 - val_loss: 0.4580 - val_acc: 0.5297 - val_f1macro: 0.5004\n"
     ]
    },
    {
     "data": {
      "text/plain": [
       "<keras.callbacks.History at 0x7f6f809e2310>"
      ]
     },
     "execution_count": 5,
     "metadata": {},
     "output_type": "execute_result"
    }
   ],
   "source": [
    "# Set up callbacks and fit the model with target on DJI\n",
    "# We use custom validation score f1macro() and hence monitor for \"val_f1macro\"\n",
    "checkpoint_path = \"cnn3d-{epoch}-{val_f1macro:.2f}.h5\"\n",
    "callbacks = [\n",
    "    ModelCheckpoint(checkpoint_path,\n",
    "                    monitor='val_f1macro', mode=\"max\",\n",
    "                    verbose=0, save_best_only=True, save_weights_only=False, save_freq=\"epoch\"),\n",
    "    EarlyStopping(monitor=\"val_loss\", patience=3, restore_best_weights=True)\n",
    "]\n",
    "model.fit(datagen(data, seq_len, batch_size, \"DJI\", \"Target\", \"train\"),\n",
    "          validation_data=datagen(data, seq_len, batch_size, \"DJI\", \"Target\", \"valid\"),\n",
    "          epochs=n_epochs, steps_per_epoch=400, validation_steps=10, verbose=1, callbacks=callbacks)"
   ]
  },
  {
   "cell_type": "code",
   "execution_count": 6,
   "id": "9cd2a876-3c30-4580-879c-366d8435f2da",
   "metadata": {},
   "outputs": [
    {
     "name": "stdout",
     "output_type": "stream",
     "text": [
      "accuracy: 0.5170731707317073\n",
      "MAE: 0.48292682926829267\n",
      "F1: 0.668896321070234\n"
     ]
    }
   ],
   "source": [
    "# Prepare test data\n",
    "test_data, test_target = testgen(data, seq_len, \"DJI\", \"Target\")\n",
    "\n",
    "# Test the model\n",
    "test_out = model.predict(test_data)\n",
    "test_pred = (test_out > 0.5).astype(int)\n",
    "print(\"accuracy:\", accuracy_score(test_pred, test_target))\n",
    "print(\"MAE:\", mean_absolute_error(test_pred, test_target))\n",
    "print(\"F1:\", f1_score(test_pred, test_target))"
   ]
  }
 ],
 "metadata": {
  "kernelspec": {
   "display_name": "Python 3 (ipykernel)",
   "language": "python",
   "name": "python3"
  },
  "language_info": {
   "codemirror_mode": {
    "name": "ipython",
    "version": 3
   },
   "file_extension": ".py",
   "mimetype": "text/x-python",
   "name": "python",
   "nbconvert_exporter": "python",
   "pygments_lexer": "ipython3",
   "version": "3.9.2"
  }
 },
 "nbformat": 4,
 "nbformat_minor": 5
}
